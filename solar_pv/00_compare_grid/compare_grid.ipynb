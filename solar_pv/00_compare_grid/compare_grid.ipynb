{
 "cells": [
  {
   "cell_type": "code",
   "execution_count": 1,
   "metadata": {},
   "outputs": [],
   "source": [
    "from zipfile import ZipFile\n",
    "from pathlib import Path\n",
    "\n",
    "DSM_PATH = r\"C:\\Users\\lilia\\Downloads\\SURVEY_LIDAR_Composite_ASC_DSM.zip\"\n",
    "with ZipFile(DSM_PATH, 'r') as zipObj:\n",
    "    listOfFileNames = zipObj.namelist()\n",
    "\n",
    "listOfFileNames = [Path(f).stem.split('_')[0].upper() for f in listOfFileNames]\n",
    "\n",
    "with open('DSM_grid.txt', 'w') as f:\n",
    "    for line in listOfFileNames:\n",
    "        f.write(f\"{line}\\n\")"
   ]
  },
  {
   "cell_type": "code",
   "execution_count": 2,
   "metadata": {},
   "outputs": [],
   "source": [
    "# Load txt file with OSMap tiles\n",
    "with open('osmapFileName.txt', 'r') as f:\n",
    "    OS_files = f.read()\n",
    "    OS_files = OS_files.split(\"\\n\")[:-1]\n",
    "\n",
    "# Convert tile name to cardinal direction\n",
    "coord_mapping = {\n",
    "    (5,0): 'SE',\n",
    "    (0,0): 'SW',\n",
    "    (0,5): 'NW',\n",
    "    (5,5): 'NE'\n",
    "}\n",
    "\n",
    "OS_tile_mapping = {}\n",
    "for f in OS_files:\n",
    "    tile_coord = (int(f[3]), int(f[-1]))\n",
    "    tile_name = f[:3] + f[-2] + coord_mapping[tile_coord]\n",
    "    \n",
    "    OS_tile_mapping[tile_name] = f"
   ]
  },
  {
   "cell_type": "code",
   "execution_count": 3,
   "metadata": {},
   "outputs": [],
   "source": [
    "# List out available DSM tiles for each OSMap tile\n",
    "OS_files_dict = {}\n",
    "\n",
    "for f in listOfFileNames:\n",
    "    if int(f[3]) <5:\n",
    "        tile_coord = f[:3] + '0'\n",
    "    else:\n",
    "        tile_coord = f[:3] + '5'\n",
    "\n",
    "    if int(f[5]) < 5:\n",
    "        tile_coord += f[4] + '0'\n",
    "    else:\n",
    "        tile_coord += f[4] + '5'\n",
    "\n",
    "    OS_files_dict[f] = tile_coord"
   ]
  },
  {
   "cell_type": "code",
   "execution_count": 4,
   "metadata": {},
   "outputs": [],
   "source": [
    "import pickle\n",
    "\n",
    "with open('os_mapping.pkl', 'wb') as f:\n",
    "    pickle.dump(OS_files_dict, f)"
   ]
  },
  {
   "cell_type": "code",
   "execution_count": 66,
   "metadata": {},
   "outputs": [
    {
     "name": "stdout",
     "output_type": "stream",
     "text": [
      "Total tiles: 1450\n",
      "Number of missing tiles: 946\n"
     ]
    }
   ],
   "source": [
    "# Each 5kmx5km OSMap tile should have 25 1kmx1km DSM tiles\n",
    "missing_tiles = {}\n",
    "num_missing = 0\n",
    "for k, v in OS_files_dict.items():\n",
    "    missing_tiles[k] = 25-len(v)\n",
    "    num_missing += len(v)\n",
    "\n",
    "print(f\"Total tiles: {25*len(OS_files_dict)}\")\n",
    "print(f\"Number of missing tiles: {num_missing}\")"
   ]
  },
  {
   "cell_type": "code",
   "execution_count": 63,
   "metadata": {},
   "outputs": [],
   "source": [
    "# Save name of available tiles\n",
    "with open('osmap_tiles.txt', 'w') as f:\n",
    "    f.write('tile\\tavailable\\tnum_missing\\n')\n",
    "    for k,v in missing_tiles.items():\n",
    "        f.write(f\"{k}\\t{OS_files_dict[k]}\\t{v}\\n\")"
   ]
  }
 ],
 "metadata": {
  "kernelspec": {
   "display_name": "Python 3.9.4 64-bit",
   "language": "python",
   "name": "python3"
  },
  "language_info": {
   "codemirror_mode": {
    "name": "ipython",
    "version": 3
   },
   "file_extension": ".py",
   "mimetype": "text/x-python",
   "name": "python",
   "nbconvert_exporter": "python",
   "pygments_lexer": "ipython3",
   "version": "3.9.4"
  },
  "orig_nbformat": 4,
  "vscode": {
   "interpreter": {
    "hash": "a71bc2f0fdff3760b45ea6dafb563485b76fcb756cae0bed9e259635e4639181"
   }
  }
 },
 "nbformat": 4,
 "nbformat_minor": 2
}
